{
  "nbformat": 4,
  "nbformat_minor": 0,
  "metadata": {
    "colab": {
      "provenance": [],
      "authorship_tag": "ABX9TyNWgjyE/wkoCWBYqmLjqR08",
      "include_colab_link": true
    },
    "kernelspec": {
      "name": "python3",
      "display_name": "Python 3"
    },
    "language_info": {
      "name": "python"
    }
  },
  "cells": [
    {
      "cell_type": "markdown",
      "metadata": {
        "id": "view-in-github",
        "colab_type": "text"
      },
      "source": [
        "<a href=\"https://colab.research.google.com/github/vicfera001/Exercicios_probabilidade_estatistica/blob/main/Estatistica_3serieEM.ipynb\" target=\"_parent\"><img src=\"https://colab.research.google.com/assets/colab-badge.svg\" alt=\"Open In Colab\"/></a>"
      ]
    },
    {
      "cell_type": "markdown",
      "source": [
        "**MEDIDAS DE TENDÊNCIA CENTRAL**"
      ],
      "metadata": {
        "id": "RMP-YffSi1Ka"
      }
    },
    {
      "cell_type": "markdown",
      "source": [
        "**1. Cálculo de Média Aritmética**"
      ],
      "metadata": {
        "id": "NRNv-70SbrOB"
      }
    },
    {
      "cell_type": "code",
      "execution_count": 6,
      "metadata": {
        "colab": {
          "base_uri": "https://localhost:8080/"
        },
        "id": "gIWqoy-cUYAu",
        "outputId": "a53b2e8b-9c23-4230-8aef-d8218cb0fa7d"
      },
      "outputs": [
        {
          "output_type": "stream",
          "name": "stdout",
          "text": [
            "Valores: [10, 15, 10, 20, 30, 25, 10]\n",
            "Média: 17.142857142857142\n",
            "Média: 17.14\n"
          ]
        }
      ],
      "source": [
        "import numpy as np\n",
        "\n",
        "# Lista de valores\n",
        "valores = [10, 15, 10, 20, 30, 25, 10]\n",
        "\n",
        "# Calcular a média\n",
        "media = np.mean(valores)\n",
        "\n",
        "print(\"Valores:\", valores)\n",
        "print(\"Média:\", media)\n",
        "\n",
        "# Arredondamento de duas casas decimais\n",
        "print(\"Média:\",\"%.2f\" % media)"
      ]
    },
    {
      "cell_type": "markdown",
      "source": [
        ":"
      ],
      "metadata": {
        "id": "ylcyT9N2dKY9"
      }
    },
    {
      "cell_type": "markdown",
      "source": [
        "**2. Cálculo de Moda**"
      ],
      "metadata": {
        "id": "4LtOycvwdKBT"
      }
    },
    {
      "cell_type": "code",
      "source": [
        "import pandas as pd\n",
        "\n",
        "#Lista de valores\n",
        "valores = [10, 15, 10, 20, 30, 25, 10]\n",
        "\n",
        "#Criar uma série do pandas\n",
        "serie = pd.Series(valores)\n",
        "\n",
        "#Calcular a moda\n",
        "moda = int(serie.mode().values[0])\n",
        "\n",
        "print(\"Valores:\", valores)\n",
        "print(\"Série:\", serie.tolist())\n",
        "print(\"Moda:\", moda)"
      ],
      "metadata": {
        "colab": {
          "base_uri": "https://localhost:8080/"
        },
        "id": "Z89yCK4ceACU",
        "outputId": "1c578c9e-b3b3-4a14-e737-d554c557f2df"
      },
      "execution_count": 8,
      "outputs": [
        {
          "output_type": "stream",
          "name": "stdout",
          "text": [
            "Valores: [10, 15, 10, 20, 30, 25, 10]\n",
            "Série: [10, 15, 10, 20, 30, 25, 10]\n",
            "Moda: 10\n"
          ]
        }
      ]
    },
    {
      "cell_type": "markdown",
      "source": [
        ":"
      ],
      "metadata": {
        "id": "6ImFVga0pMr6"
      }
    },
    {
      "cell_type": "markdown",
      "source": [
        "**3. Cálculo de Mediana**"
      ],
      "metadata": {
        "id": "3h5tde16pNu-"
      }
    },
    {
      "cell_type": "code",
      "source": [
        "import numpy as np\n",
        "\n",
        "#Lista de valores\n",
        "valores = [15, 20, 10, 30, 25]\n",
        "\n",
        "#Ordenar os valores\n",
        "valores_ordenados = sorted(valores)\n",
        "\n",
        "#Calcular a mediana\n",
        "mediana = int(np.median(valores))\n",
        "\n",
        "print(\"Valores Ordenados:\", valores_ordenados)\n",
        "print(\"Mediana:\", mediana)"
      ],
      "metadata": {
        "colab": {
          "base_uri": "https://localhost:8080/"
        },
        "id": "ivHcGfNPpTv_",
        "outputId": "0ab2ac02-3101-4681-9198-aedd10d90736"
      },
      "execution_count": 10,
      "outputs": [
        {
          "output_type": "stream",
          "name": "stdout",
          "text": [
            "Valores Ordenados: [10, 15, 20, 25, 30]\n",
            "Mediana: 20\n"
          ]
        }
      ]
    },
    {
      "cell_type": "markdown",
      "source": [
        ":"
      ],
      "metadata": {
        "id": "JVx8byuBq-Hz"
      }
    },
    {
      "cell_type": "markdown",
      "source": [
        "**MEDIDAS DE DISPERSÃO**"
      ],
      "metadata": {
        "id": "UnEPc7tfq_fX"
      }
    },
    {
      "cell_type": "markdown",
      "source": [
        "**4. Cálculo de Amplitude**"
      ],
      "metadata": {
        "id": "k9lW8m9xrOOY"
      }
    },
    {
      "cell_type": "code",
      "source": [
        "import numpy as np\n",
        "\n",
        "#Lista de valores\n",
        "valores = [15, 20, 10, 30, 25]\n",
        "\n",
        "#Função np.max() para encontrar o valor máximo\n",
        "np.max(valores)\n",
        "\n",
        "#Função np.min() para encontrar o valor mínimo\n",
        "np.min(valores)\n",
        "\n",
        "#Calcular a amplitude\n",
        "amplitude = np.max(valores) - np.min(valores)\n",
        "\n",
        "print(\"Valores:\", valores)\n",
        "print(\"Valor Máx:\", np.max(valores))\n",
        "print(\"Valor Min:\", np.min(valores))\n",
        "print(\"Amplitude:\", amplitude)"
      ],
      "metadata": {
        "colab": {
          "base_uri": "https://localhost:8080/"
        },
        "id": "nhoTv2lMrD4C",
        "outputId": "899c5ef7-1495-4562-f530-3d74993f0745"
      },
      "execution_count": 13,
      "outputs": [
        {
          "output_type": "stream",
          "name": "stdout",
          "text": [
            "Valores: [15, 20, 10, 30, 25]\n",
            "Valor Máx: 30\n",
            "Valor Min: 10\n",
            "Amplitude: 20\n"
          ]
        }
      ]
    },
    {
      "cell_type": "markdown",
      "source": [
        ":"
      ],
      "metadata": {
        "id": "kwkTyTfotSmQ"
      }
    },
    {
      "cell_type": "markdown",
      "source": [
        "**5. Cálculo de Desvio Padrão**"
      ],
      "metadata": {
        "id": "Y8Evp938tTcA"
      }
    },
    {
      "cell_type": "code",
      "source": [
        "import numpy as np\n",
        "\n",
        "#Notas do aluno\n",
        "notas = [1, 4, 9, 10]\n",
        "\n",
        "#Calcular a média\n",
        "media = int(np.mean(notas))\n",
        "\n",
        "#Calcular o desvio padrão\n",
        "desvio_padrao = np.std(notas, ddof=0)  # ddof=0 para a população\n",
        "\n",
        "print(\"Notas:\", notas)\n",
        "print(\"Média:\", media)\n",
        "print(\"Desvio Padrão:\", \"%.2f\" % desvio_padrao)"
      ],
      "metadata": {
        "colab": {
          "base_uri": "https://localhost:8080/"
        },
        "id": "giqlhu9kuRcY",
        "outputId": "d8828c4e-3fe3-4753-a4fd-98dbe95d2717"
      },
      "execution_count": 16,
      "outputs": [
        {
          "output_type": "stream",
          "name": "stdout",
          "text": [
            "Notas: [1, 4, 9, 10]\n",
            "Média: 6\n",
            "Desvio Padrão: 3.67\n"
          ]
        }
      ]
    },
    {
      "cell_type": "markdown",
      "source": [
        ":"
      ],
      "metadata": {
        "id": "mA0hV_jxysf9"
      }
    },
    {
      "cell_type": "markdown",
      "source": [
        "[Texto de Leitura](https://wp.ufpel.edu.br/nuclear/files/2017/04/texto4_desvio.pdf)"
      ],
      "metadata": {
        "id": "A9hwu7R2x2kN"
      }
    }
  ]
}