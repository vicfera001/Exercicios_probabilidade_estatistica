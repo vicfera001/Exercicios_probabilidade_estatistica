{
  "nbformat": 4,
  "nbformat_minor": 0,
  "metadata": {
    "colab": {
      "provenance": [],
      "authorship_tag": "ABX9TyO7fPvCwi3otUsPSWqaOReV",
      "include_colab_link": true
    },
    "kernelspec": {
      "name": "python3",
      "display_name": "Python 3"
    },
    "language_info": {
      "name": "python"
    }
  },
  "cells": [
    {
      "cell_type": "markdown",
      "metadata": {
        "id": "view-in-github",
        "colab_type": "text"
      },
      "source": [
        "<a href=\"https://colab.research.google.com/github/vicfera001/Exercicios_probabilidade_estatistica/blob/main/Exerc%C3%ADcios_Profa_Alessandra2b.ipynb\" target=\"_parent\"><img src=\"https://colab.research.google.com/assets/colab-badge.svg\" alt=\"Open In Colab\"/></a>"
      ]
    },
    {
      "cell_type": "markdown",
      "source": [
        "**Conceitos básicos de amostragem**\n",
        "\n",
        "1) População e Amostra: Em uma pesquisa de uma escola de 90 alunos (população), sorteamos 9 números (10% e 90) usando o mecanismo aleatório.\n",
        "\n",
        "**Pergunta:** Em Python, como criar uma tabela e exibir números aleatórios."
      ],
      "metadata": {
        "id": "xaNTHg2aKRUI"
      }
    },
    {
      "cell_type": "code",
      "execution_count": 1,
      "metadata": {
        "colab": {
          "base_uri": "https://localhost:8080/"
        },
        "id": "XQxWcdEsKEaY",
        "outputId": "a5718379-c9ca-4915-b0d0-f0928202e91f"
      },
      "outputs": [
        {
          "output_type": "stream",
          "name": "stdout",
          "text": [
            "número randômico: 35\n"
          ]
        }
      ],
      "source": [
        "#biblioteca random permite trabalhar com números randômicos\n",
        "\n",
        "import random\n",
        "\n",
        "#criar array\n",
        "espaco_amostral = [14, 35, 30, 19, 66, 27, 77, 45, 38]\n",
        "\n",
        "#função choice é utilizada para\n",
        "numero_randomico = random.choice(espaco_amostral)\n",
        "\n",
        "#exibir o número randômico\n",
        "print(\"número randômico:\", numero_randomico)"
      ]
    },
    {
      "cell_type": "markdown",
      "source": [
        ":"
      ],
      "metadata": {
        "id": "T16E70mXLIHE"
      }
    },
    {
      "cell_type": "markdown",
      "source": [
        "**Tipos de amostragem**\n",
        "\n",
        "**1) Amostragem aleatória simples**\n",
        "\n",
        "a. Com base em uma lista de alunos, como podemos criar uma amostragem aleatória simples?"
      ],
      "metadata": {
        "id": "ab9XCVP2LJk-"
      }
    },
    {
      "cell_type": "code",
      "source": [
        "import numpy as np\n",
        "import pandas as pd\n",
        "\n",
        "# Lista de alunos\n",
        "alunos = ['Ana', 'Bruno', 'Carlos', 'Diana', 'Eduardo', 'Fernanda', 'Gustavo', 'Helena', 'Igor', 'Julia']\n",
        "\n",
        "# Criando um DataFrame com os alunos\n",
        "dados_alunos = pd.DataFrame({'Nome': alunos})\n",
        "\n",
        "# Definindo o tamanho da amostra\n",
        "tamanho_amostra = 4\n",
        "\n",
        "# Seleção de uma amostra aleatória simples\n",
        "amostra_alunos = dados_alunos.sample(n=tamanho_amostra, random_state=1)\n",
        "\n",
        "print(\"Alunos Originais:\")\n",
        "print(dados_alunos)\n",
        "print(\"\\nAmostra Aleatória Simples:\")\n",
        "print(amostra_alunos)"
      ],
      "metadata": {
        "colab": {
          "base_uri": "https://localhost:8080/"
        },
        "id": "2lFvXoz8L_U3",
        "outputId": "8fc21718-4961-4c0b-8393-3e4f928e4813"
      },
      "execution_count": 2,
      "outputs": [
        {
          "output_type": "stream",
          "name": "stdout",
          "text": [
            "Alunos Originais:\n",
            "       Nome\n",
            "0       Ana\n",
            "1     Bruno\n",
            "2    Carlos\n",
            "3     Diana\n",
            "4   Eduardo\n",
            "5  Fernanda\n",
            "6   Gustavo\n",
            "7    Helena\n",
            "8      Igor\n",
            "9     Julia\n",
            "\n",
            "Amostra Aleatória Simples:\n",
            "      Nome\n",
            "2   Carlos\n",
            "9    Julia\n",
            "6  Gustavo\n",
            "4  Eduardo\n"
          ]
        }
      ]
    },
    {
      "cell_type": "markdown",
      "source": [
        ":"
      ],
      "metadata": {
        "id": "qjDRaeY3MWBe"
      }
    },
    {
      "cell_type": "markdown",
      "source": [
        "**2) Amostragem sistemática:**\n",
        "\n",
        "a. Com base em uma população de 1.000 pessoas e amostra com 100 elementos, como calculamos a amostragem sistemática?"
      ],
      "metadata": {
        "id": "uqxiDC7RMXUN"
      }
    },
    {
      "cell_type": "code",
      "source": [
        "import numpy as np\n",
        "\n",
        "#Tamanho da população e da amostra\n",
        "populacao_tamanho = 1000\n",
        "amostra_tamanho = 100\n",
        "\n",
        "#Gerar uma população de exemplo\n",
        "populacao = np.arange(populacao_tamanho)\n",
        "\n",
        "#Calcular o intervalo (k) de amostragem\n",
        "intervalo = populacao_tamanho // amostra_tamanho  #divisão inteira\n",
        "\n",
        "#Selecionar um ponto de partida aleatório entre 0 e o intervalo\n",
        "ponto_de_partida = np.random.randint(0, intervalo)\n",
        "\n",
        "#Selecionar a amostra usando amostragem sistemática\n",
        "amostra_sistematica = populacao[ponto_de_partida::intervalo] #operador:: indica a  posição do índice\n",
        "\n",
        "print(\"População:\", populacao)\n",
        "print(\"Amostra Sistemática:\", amostra_sistematica)"
      ],
      "metadata": {
        "colab": {
          "base_uri": "https://localhost:8080/"
        },
        "id": "3fyUvD3oMdTm",
        "outputId": "b243cdf5-8641-473e-8cff-bc3b8f04fb22"
      },
      "execution_count": 4,
      "outputs": [
        {
          "output_type": "stream",
          "name": "stdout",
          "text": [
            "População: [  0   1   2   3   4   5   6   7   8   9  10  11  12  13  14  15  16  17\n",
            "  18  19  20  21  22  23  24  25  26  27  28  29  30  31  32  33  34  35\n",
            "  36  37  38  39  40  41  42  43  44  45  46  47  48  49  50  51  52  53\n",
            "  54  55  56  57  58  59  60  61  62  63  64  65  66  67  68  69  70  71\n",
            "  72  73  74  75  76  77  78  79  80  81  82  83  84  85  86  87  88  89\n",
            "  90  91  92  93  94  95  96  97  98  99 100 101 102 103 104 105 106 107\n",
            " 108 109 110 111 112 113 114 115 116 117 118 119 120 121 122 123 124 125\n",
            " 126 127 128 129 130 131 132 133 134 135 136 137 138 139 140 141 142 143\n",
            " 144 145 146 147 148 149 150 151 152 153 154 155 156 157 158 159 160 161\n",
            " 162 163 164 165 166 167 168 169 170 171 172 173 174 175 176 177 178 179\n",
            " 180 181 182 183 184 185 186 187 188 189 190 191 192 193 194 195 196 197\n",
            " 198 199 200 201 202 203 204 205 206 207 208 209 210 211 212 213 214 215\n",
            " 216 217 218 219 220 221 222 223 224 225 226 227 228 229 230 231 232 233\n",
            " 234 235 236 237 238 239 240 241 242 243 244 245 246 247 248 249 250 251\n",
            " 252 253 254 255 256 257 258 259 260 261 262 263 264 265 266 267 268 269\n",
            " 270 271 272 273 274 275 276 277 278 279 280 281 282 283 284 285 286 287\n",
            " 288 289 290 291 292 293 294 295 296 297 298 299 300 301 302 303 304 305\n",
            " 306 307 308 309 310 311 312 313 314 315 316 317 318 319 320 321 322 323\n",
            " 324 325 326 327 328 329 330 331 332 333 334 335 336 337 338 339 340 341\n",
            " 342 343 344 345 346 347 348 349 350 351 352 353 354 355 356 357 358 359\n",
            " 360 361 362 363 364 365 366 367 368 369 370 371 372 373 374 375 376 377\n",
            " 378 379 380 381 382 383 384 385 386 387 388 389 390 391 392 393 394 395\n",
            " 396 397 398 399 400 401 402 403 404 405 406 407 408 409 410 411 412 413\n",
            " 414 415 416 417 418 419 420 421 422 423 424 425 426 427 428 429 430 431\n",
            " 432 433 434 435 436 437 438 439 440 441 442 443 444 445 446 447 448 449\n",
            " 450 451 452 453 454 455 456 457 458 459 460 461 462 463 464 465 466 467\n",
            " 468 469 470 471 472 473 474 475 476 477 478 479 480 481 482 483 484 485\n",
            " 486 487 488 489 490 491 492 493 494 495 496 497 498 499 500 501 502 503\n",
            " 504 505 506 507 508 509 510 511 512 513 514 515 516 517 518 519 520 521\n",
            " 522 523 524 525 526 527 528 529 530 531 532 533 534 535 536 537 538 539\n",
            " 540 541 542 543 544 545 546 547 548 549 550 551 552 553 554 555 556 557\n",
            " 558 559 560 561 562 563 564 565 566 567 568 569 570 571 572 573 574 575\n",
            " 576 577 578 579 580 581 582 583 584 585 586 587 588 589 590 591 592 593\n",
            " 594 595 596 597 598 599 600 601 602 603 604 605 606 607 608 609 610 611\n",
            " 612 613 614 615 616 617 618 619 620 621 622 623 624 625 626 627 628 629\n",
            " 630 631 632 633 634 635 636 637 638 639 640 641 642 643 644 645 646 647\n",
            " 648 649 650 651 652 653 654 655 656 657 658 659 660 661 662 663 664 665\n",
            " 666 667 668 669 670 671 672 673 674 675 676 677 678 679 680 681 682 683\n",
            " 684 685 686 687 688 689 690 691 692 693 694 695 696 697 698 699 700 701\n",
            " 702 703 704 705 706 707 708 709 710 711 712 713 714 715 716 717 718 719\n",
            " 720 721 722 723 724 725 726 727 728 729 730 731 732 733 734 735 736 737\n",
            " 738 739 740 741 742 743 744 745 746 747 748 749 750 751 752 753 754 755\n",
            " 756 757 758 759 760 761 762 763 764 765 766 767 768 769 770 771 772 773\n",
            " 774 775 776 777 778 779 780 781 782 783 784 785 786 787 788 789 790 791\n",
            " 792 793 794 795 796 797 798 799 800 801 802 803 804 805 806 807 808 809\n",
            " 810 811 812 813 814 815 816 817 818 819 820 821 822 823 824 825 826 827\n",
            " 828 829 830 831 832 833 834 835 836 837 838 839 840 841 842 843 844 845\n",
            " 846 847 848 849 850 851 852 853 854 855 856 857 858 859 860 861 862 863\n",
            " 864 865 866 867 868 869 870 871 872 873 874 875 876 877 878 879 880 881\n",
            " 882 883 884 885 886 887 888 889 890 891 892 893 894 895 896 897 898 899\n",
            " 900 901 902 903 904 905 906 907 908 909 910 911 912 913 914 915 916 917\n",
            " 918 919 920 921 922 923 924 925 926 927 928 929 930 931 932 933 934 935\n",
            " 936 937 938 939 940 941 942 943 944 945 946 947 948 949 950 951 952 953\n",
            " 954 955 956 957 958 959 960 961 962 963 964 965 966 967 968 969 970 971\n",
            " 972 973 974 975 976 977 978 979 980 981 982 983 984 985 986 987 988 989\n",
            " 990 991 992 993 994 995 996 997 998 999]\n",
            "Amostra Sistemática: [  0  10  20  30  40  50  60  70  80  90 100 110 120 130 140 150 160 170\n",
            " 180 190 200 210 220 230 240 250 260 270 280 290 300 310 320 330 340 350\n",
            " 360 370 380 390 400 410 420 430 440 450 460 470 480 490 500 510 520 530\n",
            " 540 550 560 570 580 590 600 610 620 630 640 650 660 670 680 690 700 710\n",
            " 720 730 740 750 760 770 780 790 800 810 820 830 840 850 860 870 880 890\n",
            " 900 910 920 930 940 950 960 970 980 990]\n"
          ]
        }
      ]
    },
    {
      "cell_type": "markdown",
      "source": [
        ":"
      ],
      "metadata": {
        "id": "PeFpsvynNEhg"
      }
    },
    {
      "cell_type": "markdown",
      "source": [
        "**3) Amostragem estratificada:**\n",
        "\n",
        "a. Com base em uma tabela (chamada dados), contendo: Id, Curso e Notas, criar uma tabela manual utilizando a tabela dados como parâmetro e aplicar o conceito de amostragem estratificada:"
      ],
      "metadata": {
        "id": "2BCo-Hu0NFTD"
      }
    },
    {
      "cell_type": "code",
      "source": [
        "import numpy as np\n",
        "import pandas as pd\n",
        "\n",
        "#Criação de um DataFrame de exemplo com estudantes e seus cursos\n",
        "dados = pd.DataFrame({'ID': np.arange(1, 101),\n",
        "                      'Curso': ['Engenharia'] * 30 +\n",
        "                               ['Medicina'] * 40 + ['Direito'] * 30,\n",
        "                       'Nota': np.random.uniform(0, 10, 100) })  #Notas variando de 0 a 10\n",
        "\n",
        "#Tamanho da amostra desejada por curso\n",
        "amostra_tamanhos = {'Engenharia': 10, 'Medicina': 15, 'Direito': 10}\n",
        "\n",
        "#Amostragem estratificada manual\n",
        "amostra = pd.DataFrame()\n",
        "\n",
        "#Engenharia\n",
        "estrato_engenharia = dados[dados['Curso'] == 'Engenharia']\n",
        "amostra_engenharia = estrato_engenharia.sample(n=amostra_tamanhos['Engenharia'], random_state=42)\n",
        "amostra = pd.concat([amostra, amostra_engenharia])\n",
        "\n",
        "#Medicina\n",
        "estrato_medicina = dados[dados['Curso'] == 'Medicina']\n",
        "amostra_medicina = estrato_medicina.sample(n=amostra_tamanhos['Medicina'], random_state=42)\n",
        "amostra = pd.concat([amostra, amostra_medicina])\n",
        "\n",
        "#Direito\n",
        "estrato_direito = dados[dados['Curso'] == 'Direito']\n",
        "amostra_direito = estrato_direito.sample(n=amostra_tamanhos['Direito'], random_state=42)\n",
        "amostra = pd.concat([amostra, amostra_direito])\n",
        "\n",
        "print(\"Dados Originais:\")\n",
        "print(dados)\n",
        "print(\"\\nAmostra Estratificada:\")\n",
        "print(amostra)"
      ],
      "metadata": {
        "colab": {
          "base_uri": "https://localhost:8080/"
        },
        "id": "33_DZvKgNxPW",
        "outputId": "846cd0a8-9b78-4909-c449-9b9c05b3b9be"
      },
      "execution_count": 8,
      "outputs": [
        {
          "output_type": "stream",
          "name": "stdout",
          "text": [
            "Dados Originais:\n",
            "     ID       Curso      Nota\n",
            "0     1  Engenharia  3.901316\n",
            "1     2  Engenharia  1.803068\n",
            "2     3  Engenharia  2.967150\n",
            "3     4  Engenharia  5.654402\n",
            "4     5  Engenharia  4.242323\n",
            "..  ...         ...       ...\n",
            "95   96     Direito  4.166696\n",
            "96   97     Direito  6.485079\n",
            "97   98     Direito  6.848607\n",
            "98   99     Direito  3.780221\n",
            "99  100     Direito  7.576441\n",
            "\n",
            "[100 rows x 3 columns]\n",
            "\n",
            "Amostra Estratificada:\n",
            "    ID       Curso      Nota\n",
            "27  28  Engenharia  8.513837\n",
            "15  16  Engenharia  9.792251\n",
            "23  24  Engenharia  7.391029\n",
            "17  18  Engenharia  8.886152\n",
            "8    9  Engenharia  1.258250\n",
            "9   10  Engenharia  7.101359\n",
            "28  29  Engenharia  0.588766\n",
            "24  25  Engenharia  1.332183\n",
            "12  13  Engenharia  9.793708\n",
            "0    1  Engenharia  3.901316\n",
            "49  50    Medicina  3.851467\n",
            "46  47    Medicina  9.645560\n",
            "45  46    Medicina  5.148814\n",
            "56  57    Medicina  7.720306\n",
            "34  35    Medicina  4.066070\n",
            "42  43    Medicina  3.822972\n",
            "67  68    Medicina  5.100131\n",
            "57  58    Medicina  4.475256\n",
            "69  70    Medicina  9.956304\n",
            "36  37    Medicina  2.076191\n",
            "55  56    Medicina  8.718759\n",
            "39  40    Medicina  8.740560\n",
            "43  44    Medicina  5.886297\n",
            "61  62    Medicina  0.595327\n",
            "64  65    Medicina  5.274472\n",
            "97  98     Direito  6.848607\n",
            "85  86     Direito  0.463896\n",
            "93  94     Direito  1.067997\n",
            "87  88     Direito  4.920320\n",
            "78  79     Direito  4.920502\n",
            "79  80     Direito  7.981485\n",
            "98  99     Direito  3.780221\n",
            "94  95     Direito  7.148847\n",
            "82  83     Direito  7.246357\n",
            "70  71     Direito  0.555852\n"
          ]
        }
      ]
    },
    {
      "cell_type": "markdown",
      "source": [
        ":"
      ],
      "metadata": {
        "id": "_LhTcrgePp8T"
      }
    },
    {
      "cell_type": "markdown",
      "source": [
        "**4) Amostragem por conglomerados:**\n",
        "\n",
        "a. Com base em uma tabela de alunos e suas respectivas notas, como obter uma amostragem por conglomerados?"
      ],
      "metadata": {
        "id": "koTUDfHLPqvh"
      }
    },
    {
      "cell_type": "code",
      "source": [
        "import numpy as np\n",
        "import pandas as pd\n",
        "\n",
        "#Criação de um DataFrame de exemplo com estudantes agrupados em classes\n",
        "dados = pd.DataFrame({\n",
        "                      'ID': np.arange(1, 101),\n",
        "                      'Classe': np.repeat(np.arange(1, 11), 10), #10 conglomerados (classes) com 10 estudantes cada\n",
        "                      'Nota': np.random.uniform(0, 10, 100) #Notas variando de 0 a 10\n",
        "                      })\n",
        "\n",
        "\n",
        "#Seleção de conglomerados (classes) aleatórios np.random.seed(42)\n",
        "conglomerados_selecionados = np.random.choice(dados['Classe'].unique(), size=3, replace=False)\n",
        "\n",
        "#Filtrando os dados para incluir apenas os conglomerados selecionados\n",
        "amostra_conglomerados = dados[dados['Classe'].isin(conglomerados_selecionados)]\n",
        "\n",
        "print(\"Dados Originais:\")\n",
        "print(dados)\n",
        "print(\"\\nConglomerados Selecionados:\", conglomerados_selecionados)\n",
        "print(\"Amostra por Conglomerados:\")\n",
        "print(amostra_conglomerados)"
      ],
      "metadata": {
        "colab": {
          "base_uri": "https://localhost:8080/"
        },
        "id": "-39_XqXXPwTR",
        "outputId": "f313cdce-abb7-4779-9444-63830e7797ee"
      },
      "execution_count": 9,
      "outputs": [
        {
          "output_type": "stream",
          "name": "stdout",
          "text": [
            "Dados Originais:\n",
            "     ID  Classe      Nota\n",
            "0     1       1  6.826220\n",
            "1     2       1  0.610507\n",
            "2     3       1  6.617272\n",
            "3     4       1  8.007967\n",
            "4     5       1  3.722236\n",
            "..  ...     ...       ...\n",
            "95   96      10  5.206012\n",
            "96   97      10  4.324849\n",
            "97   98      10  5.574866\n",
            "98   99      10  0.353425\n",
            "99  100      10  0.550983\n",
            "\n",
            "[100 rows x 3 columns]\n",
            "\n",
            "Conglomerados Selecionados: [10  7  4]\n",
            "Amostra por Conglomerados:\n",
            "     ID  Classe      Nota\n",
            "30   31       4  1.781605\n",
            "31   32       4  0.242838\n",
            "32   33       4  1.405273\n",
            "33   34       4  3.898745\n",
            "34   35       4  9.631594\n",
            "35   36       4  1.494127\n",
            "36   37       4  8.965816\n",
            "37   38       4  7.720799\n",
            "38   39       4  4.865065\n",
            "39   40       4  6.517198\n",
            "60   61       7  1.285306\n",
            "61   62       7  0.572168\n",
            "62   63       7  8.152107\n",
            "63   64       7  4.579560\n",
            "64   65       7  5.310186\n",
            "65   66       7  1.186402\n",
            "66   67       7  9.269926\n",
            "67   68       7  7.304196\n",
            "68   69       7  5.260024\n",
            "69   70       7  6.115848\n",
            "90   91      10  8.196720\n",
            "91   92      10  7.337759\n",
            "92   93      10  3.820705\n",
            "93   94      10  3.995134\n",
            "94   95      10  0.077583\n",
            "95   96      10  5.206012\n",
            "96   97      10  4.324849\n",
            "97   98      10  5.574866\n",
            "98   99      10  0.353425\n",
            "99  100      10  0.550983\n"
          ]
        }
      ]
    },
    {
      "cell_type": "markdown",
      "source": [
        ":"
      ],
      "metadata": {
        "id": "-K7dQp2KP5Ge"
      }
    },
    {
      "cell_type": "markdown",
      "source": [
        "**5) Amostragem por conveniência:**\n",
        "\n",
        "a. Com base em uma tabela de estudantes e suas respectivas notas, como obter uma amostragem por conveniência?"
      ],
      "metadata": {
        "id": "Nh4i8G4VP6QB"
      }
    },
    {
      "cell_type": "code",
      "source": [
        "import pandas as pd\n",
        "import numpy as np\n",
        "\n",
        "#Criando um DataFrame de exemplo com estudantes\n",
        "dados = pd.DataFrame({\n",
        "                'ID': np.arange(1, 101),\n",
        "                'Nome': [f'Estudante {i}' for i in range(1, 101)],\n",
        "                'Nota': np.random.uniform(0, 10, 100)  # Notas variando de 0 a 10\n",
        "               })\n",
        "\n",
        "#Seleção de uma amostra por conveniência (os primeiros 20 estudantes)\n",
        "amostra_conveniencia = dados.head(20)\n",
        "\n",
        "print(\"Dados Originais:\")\n",
        "print(dados)\n",
        "print(\"\\nAmostra por Conveniência:\")\n",
        "print(amostra_conveniencia)\n"
      ],
      "metadata": {
        "colab": {
          "base_uri": "https://localhost:8080/"
        },
        "id": "BQG7Qn_jQOAi",
        "outputId": "cd5954fd-a0bd-4aa3-b78d-0fc763525693"
      },
      "execution_count": 10,
      "outputs": [
        {
          "output_type": "stream",
          "name": "stdout",
          "text": [
            "Dados Originais:\n",
            "     ID           Nome      Nota\n",
            "0     1    Estudante 1  2.984889\n",
            "1     2    Estudante 2  0.423574\n",
            "2     3    Estudante 3  0.638054\n",
            "3     4    Estudante 4  3.053784\n",
            "4     5    Estudante 5  4.372597\n",
            "..  ...            ...       ...\n",
            "95   96   Estudante 96  0.679285\n",
            "96   97   Estudante 97  6.681358\n",
            "97   98   Estudante 98  2.743096\n",
            "98   99   Estudante 99  4.964870\n",
            "99  100  Estudante 100  4.807596\n",
            "\n",
            "[100 rows x 3 columns]\n",
            "\n",
            "Amostra por Conveniência:\n",
            "    ID          Nome      Nota\n",
            "0    1   Estudante 1  2.984889\n",
            "1    2   Estudante 2  0.423574\n",
            "2    3   Estudante 3  0.638054\n",
            "3    4   Estudante 4  3.053784\n",
            "4    5   Estudante 5  4.372597\n",
            "5    6   Estudante 6  6.536314\n",
            "6    7   Estudante 7  0.975073\n",
            "7    8   Estudante 8  2.859246\n",
            "8    9   Estudante 9  7.628427\n",
            "9   10  Estudante 10  3.678569\n",
            "10  11  Estudante 11  2.894541\n",
            "11  12  Estudante 12  6.394113\n",
            "12  13  Estudante 13  7.416279\n",
            "13  14  Estudante 14  9.879950\n",
            "14  15  Estudante 15  1.395232\n",
            "15  16  Estudante 16  7.865388\n",
            "16  17  Estudante 17  1.056724\n",
            "17  18  Estudante 18  6.597441\n",
            "18  19  Estudante 19  2.997746\n",
            "19  20  Estudante 20  2.415473\n"
          ]
        }
      ]
    },
    {
      "cell_type": "markdown",
      "source": [
        ":"
      ],
      "metadata": {
        "id": "WF9GQY4XQ7Tb"
      }
    },
    {
      "cell_type": "markdown",
      "source": [
        "**6) Amostragem intencional:**\n",
        "\n",
        "a. Com base em uma tabela de estudantes e suas respectivas notas, como obter uma amostragem\n",
        "intencional?"
      ],
      "metadata": {
        "id": "SSrn20MPQ8Fo"
      }
    },
    {
      "cell_type": "code",
      "source": [
        "import pandas as pd\n",
        "import numpy as np\n",
        "\n",
        "# Criando um DataFrame de exemplo com estudantes\n",
        "dados = pd.DataFrame({\n",
        "           'ID': np.arange(1, 101),\n",
        "           'Nome': [f'Estudante {i}' for i in range(1, 101)],\n",
        "           'Nota': np.random.uniform(0, 10, 100)  # Notas variando de 0 a 10\n",
        "        })\n",
        "\n",
        "# Seleção de uma amostra intencional (estudantes com nota acima de 8)\n",
        "amostra_intencional = dados[dados['Nota'] > 8]\n",
        "\n",
        "print(\"Dados Originais:\")\n",
        "print(dados)\n",
        "print(\"\\nAmostra Intencional:\")\n",
        "print(amostra_intencional)"
      ],
      "metadata": {
        "colab": {
          "base_uri": "https://localhost:8080/"
        },
        "id": "kRNyC1lZRCd5",
        "outputId": "644812cf-1d62-40f3-84b6-dbd06b3ee069"
      },
      "execution_count": 11,
      "outputs": [
        {
          "output_type": "stream",
          "name": "stdout",
          "text": [
            "Dados Originais:\n",
            "     ID           Nome      Nota\n",
            "0     1    Estudante 1  4.885420\n",
            "1     2    Estudante 2  3.010512\n",
            "2     3    Estudante 3  8.946926\n",
            "3     4    Estudante 4  0.962906\n",
            "4     5    Estudante 5  7.470602\n",
            "..  ...            ...       ...\n",
            "95   96   Estudante 96  7.132877\n",
            "96   97   Estudante 97  4.843576\n",
            "97   98   Estudante 98  0.708971\n",
            "98   99   Estudante 99  1.101486\n",
            "99  100  Estudante 100  1.301849\n",
            "\n",
            "[100 rows x 3 columns]\n",
            "\n",
            "Amostra Intencional:\n",
            "    ID          Nome      Nota\n",
            "2    3   Estudante 3  8.946926\n",
            "10  11  Estudante 11  8.676561\n",
            "11  12  Estudante 12  9.868739\n",
            "18  19  Estudante 19  8.757266\n",
            "19  20  Estudante 20  9.379767\n",
            "23  24  Estudante 24  9.315378\n",
            "29  30  Estudante 30  8.842848\n",
            "31  32  Estudante 32  8.794078\n",
            "32  33  Estudante 33  8.047863\n",
            "33  34  Estudante 34  8.930369\n",
            "34  35  Estudante 35  8.449106\n",
            "39  40  Estudante 40  9.845729\n",
            "45  46  Estudante 46  9.866512\n",
            "46  47  Estudante 47  8.701597\n",
            "54  55  Estudante 55  8.660186\n",
            "57  58  Estudante 58  9.517605\n",
            "60  61  Estudante 61  9.360711\n",
            "62  63  Estudante 63  8.499515\n",
            "63  64  Estudante 64  9.351320\n",
            "64  65  Estudante 65  8.905544\n",
            "65  66  Estudante 66  8.431383\n",
            "70  71  Estudante 71  8.366581\n",
            "73  74  Estudante 74  8.193552\n",
            "78  79  Estudante 79  8.412943\n",
            "79  80  Estudante 80  9.057627\n",
            "84  85  Estudante 85  9.342440\n",
            "88  89  Estudante 89  8.294612\n",
            "89  90  Estudante 90  9.033862\n",
            "92  93  Estudante 93  9.720092\n"
          ]
        }
      ]
    },
    {
      "cell_type": "markdown",
      "source": [
        ":"
      ],
      "metadata": {
        "id": "d63lyuykRJmY"
      }
    },
    {
      "cell_type": "markdown",
      "source": [
        "**7) Amostragem por cotas:**\n",
        "\n",
        "a. Com base em uma tabela de cursos e notas, como obter uma amostragem por cotas?"
      ],
      "metadata": {
        "id": "E1s1ueGcRNzz"
      }
    },
    {
      "cell_type": "code",
      "source": [
        "import pandas as pd\n",
        "import numpy as np\n",
        "\n",
        "#Criando um DataFrame de exemplo com estudantes\n",
        "dados = pd.DataFrame({\n",
        "            'ID': np.arange(1, 101),\n",
        "           'Curso': ['Engenharia'] * 30 + ['Medicina'] * 40 + ['Direito'] * 30,\n",
        "           'Nota': np.random.uniform(0, 10, 100)  #Notas variando de 0 a 10\n",
        "         })\n",
        "\n",
        "#Definindo cotas: queremos 10 estudantes de Engenharia, 15 de Medicina e 5 de Direito\n",
        "cota_engenharia = dados[dados['Curso'] == 'Engenharia'].sample(n=10, random_state=42)\n",
        "cota_medicina = dados[dados['Curso'] == 'Medicina'].sample(n=15, random_state=42)\n",
        "cota_direito = dados[dados['Curso'] == 'Direito'].sample(n=5, random_state=42)\n",
        "\n",
        "#Concatenando as cotas para formar a amostra final\n",
        "amostra_cotas = pd.concat([cota_engenharia, cota_medicina, cota_direito])\n",
        "\n",
        "\n",
        "print(\"Dados Originais:\")\n",
        "print(dados)\n",
        "print(\"\\nAmostra por Cotas:\")\n",
        "print(amostra_cotas)"
      ],
      "metadata": {
        "colab": {
          "base_uri": "https://localhost:8080/"
        },
        "id": "qYGChwG1RRyg",
        "outputId": "63713c4a-a00e-4ef7-c876-2115e88f1bb6"
      },
      "execution_count": 12,
      "outputs": [
        {
          "output_type": "stream",
          "name": "stdout",
          "text": [
            "Dados Originais:\n",
            "     ID       Curso      Nota\n",
            "0     1  Engenharia  9.868713\n",
            "1     2  Engenharia  5.366143\n",
            "2     3  Engenharia  9.944166\n",
            "3     4  Engenharia  8.025610\n",
            "4     5  Engenharia  8.899648\n",
            "..  ...         ...       ...\n",
            "95   96     Direito  4.408179\n",
            "96   97     Direito  1.951199\n",
            "97   98     Direito  2.975003\n",
            "98   99     Direito  7.884324\n",
            "99  100     Direito  6.657885\n",
            "\n",
            "[100 rows x 3 columns]\n",
            "\n",
            "Amostra por Cotas:\n",
            "    ID       Curso      Nota\n",
            "27  28  Engenharia  6.081426\n",
            "15  16  Engenharia  0.159039\n",
            "23  24  Engenharia  5.619099\n",
            "17  18  Engenharia  8.097387\n",
            "8    9  Engenharia  5.374793\n",
            "9   10  Engenharia  0.205426\n",
            "28  29  Engenharia  9.924516\n",
            "24  25  Engenharia  5.595861\n",
            "12  13  Engenharia  1.533537\n",
            "0    1  Engenharia  9.868713\n",
            "49  50    Medicina  7.580482\n",
            "46  47    Medicina  5.097844\n",
            "45  46    Medicina  5.822111\n",
            "56  57    Medicina  9.848227\n",
            "34  35    Medicina  8.148033\n",
            "42  43    Medicina  8.601410\n",
            "67  68    Medicina  7.379149\n",
            "57  58    Medicina  0.998317\n",
            "69  70    Medicina  9.707214\n",
            "36  37    Medicina  9.765662\n",
            "55  56    Medicina  6.824360\n",
            "39  40    Medicina  2.921783\n",
            "43  44    Medicina  7.060683\n",
            "61  62    Medicina  0.631222\n",
            "64  65    Medicina  7.013827\n",
            "97  98     Direito  2.975003\n",
            "85  86     Direito  6.494290\n",
            "93  94     Direito  0.564604\n",
            "87  88     Direito  5.933750\n",
            "78  79     Direito  8.332841\n"
          ]
        }
      ]
    },
    {
      "cell_type": "markdown",
      "source": [
        ":"
      ],
      "metadata": {
        "id": "yXh7pVZmR813"
      }
    },
    {
      "cell_type": "markdown",
      "source": [
        "**8) Amostragem bola de neve:**\n",
        "\n",
        "a. Com base em um dicionário com 10 participantes, como obter uma amostragem bola de neve?"
      ],
      "metadata": {
        "id": "UEwW793eR90w"
      }
    },
    {
      "cell_type": "code",
      "source": [
        "import numpy as np\n",
        "#Lista inicial de participantes (semente)\n",
        "participantes_iniciais = ['Participante 1', 'Participante 2']\n",
        "#Dicionário simulando indicações de novos participantes\n",
        "indicacoes = {\n",
        "    'Participante 1': ['Participante 3', 'Participante 4'],\n",
        "    'Participante 2': ['Participante 5', 'Participante 6'],\n",
        "    'Participante 3': ['Participante 7', 'Participante 8'],\n",
        "    'Participante 4': ['Participante 9', 'Participante 10']\n",
        "}\n",
        "#Etapa 1: Adicionando participantes iniciais\n",
        "amostra_bola_de_neve = participantes_iniciais.copy()\n",
        "\n",
        "#Etapa 2: Adicionando participantes indicados pelos iniciais\n",
        "novos_participantes = []\n",
        "novos_participantes.extend(indicacoes.get('Participante 1', []))\n",
        "novos_participantes.extend(indicacoes.get('Participante 2', []))\n",
        "amostra_bola_de_neve.extend(novos_participantes)\n",
        "\n",
        "#Etapa 3: Adicionando participantes indicados pelos novos participantes\n",
        "novos_participantes_temp = []\n",
        "novos_participantes_temp.extend(indicacoes.get('Participante 3', []))\n",
        "novos_participantes_temp.extend(indicacoes.get('Participante 4', []))\n",
        "amostra_bola_de_neve.extend(novos_participantes_temp)\n",
        "\n",
        "print(\"Amostra Final (Bola de Neve):\")\n",
        "print(amostra_bola_de_neve)"
      ],
      "metadata": {
        "colab": {
          "base_uri": "https://localhost:8080/"
        },
        "id": "yiCOzZlrSCxv",
        "outputId": "7cefdf75-2e23-4d06-ea5b-c279a00e91c8"
      },
      "execution_count": 13,
      "outputs": [
        {
          "output_type": "stream",
          "name": "stdout",
          "text": [
            "Amostra Final (Bola de Neve):\n",
            "['Participante 1', 'Participante 2', 'Participante 3', 'Participante 4', 'Participante 5', 'Participante 6', 'Participante 7', 'Participante 8', 'Participante 9', 'Participante 10']\n"
          ]
        }
      ]
    },
    {
      "cell_type": "markdown",
      "source": [
        ":"
      ],
      "metadata": {
        "id": "_aI6ERPoSK-f"
      }
    },
    {
      "cell_type": "markdown",
      "source": [
        "**9) Amostragem desproporcional:**\n",
        "\n",
        "a. A tabela Grupos possui os campos: Id, Grupo e Valor. Com base no conceito de amostragem desproporcional, como podemos criar um código em Python utilizando a tabela mencionada?"
      ],
      "metadata": {
        "id": "dEXAnHaNSL2Z"
      }
    },
    {
      "cell_type": "code",
      "source": [
        "import pandas as pd\n",
        "import numpy as np\n",
        "\n",
        "# Criando um DataFrame de exemplo com diferentes grupos\n",
        "dados = pd.DataFrame({\n",
        "    'ID': np.arange(1, 101),\n",
        "    'Grupo': ['Grupo A'] * 40 + ['Grupo B'] * 30 + ['Grupo C'] * 30,\n",
        "    'Valor': np.random.uniform(0, 100, 100)\n",
        "})\n",
        "\n",
        "# Definindo os tamanhos desproporcionais para cada grupo\n",
        "amostra_desproporcional = {\n",
        "    'Grupo A': 10,\n",
        "    'Grupo B': 15,\n",
        "    'Grupo C': 5\n",
        "}\n",
        "\n",
        "#Selecionando amostras desproporcionais\n",
        "amostra_A = dados[dados['Grupo'] == 'Grupo A'].sample(n=amostra_desproporcional['Grupo A'], random_state=42)\n",
        "amostra_B = dados[dados['Grupo'] == 'Grupo B'].sample(n=amostra_desproporcional['Grupo B'], random_state=42)\n",
        "amostra_C = dados[dados['Grupo'] == 'Grupo C'].sample(n=amostra_desproporcional['Grupo C'], random_state=42)\n",
        "\n",
        "#Concatenando as amostras para formar a amostra final\n",
        "amostra_final = pd.concat([amostra_A, amostra_B, amostra_C])\n",
        "\n",
        "print(\"Dados Originais:\")\n",
        "print(dados)\n",
        "print(\"\\nAmostra Desproporcional:\")\n",
        "print(amostra_final)"
      ],
      "metadata": {
        "colab": {
          "base_uri": "https://localhost:8080/"
        },
        "id": "oeS7XF0qSRSH",
        "outputId": "7b5c6f87-673e-4768-818d-e19e91289149"
      },
      "execution_count": 14,
      "outputs": [
        {
          "output_type": "stream",
          "name": "stdout",
          "text": [
            "Dados Originais:\n",
            "     ID    Grupo      Valor\n",
            "0     1  Grupo A  64.086175\n",
            "1     2  Grupo A  51.191079\n",
            "2     3  Grupo A  82.835230\n",
            "3     4  Grupo A  62.504964\n",
            "4     5  Grupo A  68.217213\n",
            "..  ...      ...        ...\n",
            "95   96  Grupo C  13.630755\n",
            "96   97  Grupo C  17.664062\n",
            "97   98  Grupo C   9.203040\n",
            "98   99  Grupo C  68.329714\n",
            "99  100  Grupo C  10.750494\n",
            "\n",
            "[100 rows x 3 columns]\n",
            "\n",
            "Amostra Desproporcional:\n",
            "    ID    Grupo      Valor\n",
            "19  20  Grupo A  70.959607\n",
            "16  17  Grupo A  51.737722\n",
            "15  16  Grupo A  63.788700\n",
            "26  27  Grupo A   2.968367\n",
            "4    5  Grupo A  68.217213\n",
            "12  13  Grupo A  74.079747\n",
            "37  38  Grupo A  68.211261\n",
            "27  28  Grupo A  48.387027\n",
            "39  40  Grupo A  46.218305\n",
            "6    7  Grupo A  69.371669\n",
            "67  68  Grupo B  15.262852\n",
            "55  56  Grupo B   0.545428\n",
            "63  64  Grupo B  46.469341\n",
            "57  58  Grupo B  40.815008\n",
            "48  49  Grupo B  23.193189\n",
            "49  50  Grupo B  78.046671\n",
            "68  69  Grupo B  57.373030\n",
            "64  65  Grupo B  59.330928\n",
            "52  53  Grupo B  49.617448\n",
            "40  41  Grupo B  42.595067\n",
            "44  45  Grupo B  33.066838\n",
            "56  57  Grupo B  18.862555\n",
            "45  46  Grupo B  11.928374\n",
            "53  54  Grupo B  33.284557\n",
            "51  52  Grupo B  84.235430\n",
            "97  98  Grupo C   9.203040\n",
            "85  86  Grupo C  79.690953\n",
            "93  94  Grupo C  94.728766\n",
            "87  88  Grupo C  46.588426\n",
            "78  79  Grupo C  29.030653\n"
          ]
        }
      ]
    },
    {
      "cell_type": "markdown",
      "source": [
        ":"
      ],
      "metadata": {
        "id": "fQfbw3LFS0VJ"
      }
    },
    {
      "cell_type": "markdown",
      "source": [
        "**Tamanho da amostra**\n",
        "\n",
        "A fórmula para calcular o tamanho da amostra depende de alguns fatores, como o nível de confiança desejado, a margem de erro aceitável e a variabilidade da população. A fórmula comum para amostras aleatórias simples é:"
      ],
      "metadata": {
        "id": "EF9FT_CBS1Re"
      }
    },
    {
      "cell_type": "markdown",
      "source": [
        "$$n = \\frac{Z^2 \\cdot p \\cdot (1 - p)}{e^2}$$"
      ],
      "metadata": {
        "id": "mMXF6H4ETXeg"
      }
    },
    {
      "cell_type": "markdown",
      "source": [
        "Em Python, a exponenciação é representada por: **. O código para representarmos a fórmula acima é:"
      ],
      "metadata": {
        "id": "dFMlU4yxZPn5"
      }
    },
    {
      "cell_type": "code",
      "source": [
        "n = (Z**2 * p * (1 - p)) / (e**2)"
      ],
      "metadata": {
        "id": "dqbvvRFSYsLx"
      },
      "execution_count": null,
      "outputs": []
    },
    {
      "cell_type": "markdown",
      "source": [
        "1) Para cálculo de Tamanho da Amostra, temos os seguintes parâmetros:\n",
        "\n",
        "a. Z = 1.96 (95% do nível de confiança)\n",
        "\n",
        "b. P = 0.5 (proporção da polução)\n",
        "\n",
        "c. E = 0.05 (margem de erro)\n",
        "\n",
        "Com base nesses parâmetros, desenvolva um código em Python para representar o Tamanho da Amostra."
      ],
      "metadata": {
        "id": "J8sM-0v7ehQz"
      }
    },
    {
      "cell_type": "code",
      "source": [
        "import math\n",
        "\n",
        "#Parâmetros para o cálculo do tamanho da amostra\n",
        "Z = 1.96  #valor Z para 95% de nível de confiança\n",
        "p = 0.5   #proporção da população\n",
        "e = 0.05  #margem de erro\n",
        "\n",
        "#Cálculo do tamanho da amostra\n",
        "n = (Z**2 * p * (1 - p)) / (e**2)\n",
        "\n",
        "#Arredondando para o próximo número inteiro\n",
        "n = math.ceil(n)\n",
        "\n",
        "print(\"Tamanho da Amostra:\", n)\n"
      ],
      "metadata": {
        "colab": {
          "base_uri": "https://localhost:8080/"
        },
        "id": "1Aam2JA1eg2w",
        "outputId": "ffa0a444-e858-4ed5-e09e-19b5983d2c7e"
      },
      "execution_count": 15,
      "outputs": [
        {
          "output_type": "stream",
          "name": "stdout",
          "text": [
            "Tamanho da Amostra: 385\n"
          ]
        }
      ]
    },
    {
      "cell_type": "markdown",
      "source": [
        ":"
      ],
      "metadata": {
        "id": "IGKrsyCEfJor"
      }
    },
    {
      "cell_type": "markdown",
      "source": [
        "**Erro Amostral**\n",
        "\n",
        "Para representar o conceito de Erro Amostral em Python, utilizamos as seguintes funções:\n",
        "\n",
        "A função random.seed() em Python é usada para inicializar o gerador de números aleatórios.\n",
        "\n",
        "Quando você define a semente (ou seed), você garante que a sequência de números aleatórios gerados será a mesma toda vez que você executar o código. Isso é muito útil em várias situações, como quando você deseja que seus resultados sejam reprodutíveis para fins de teste, depuração, ou para compartilhar com outras pessoas que possam querer replicar seus resultados.\n",
        "\n",
        "Como Funciona random.seed(): Quando você define uma semente usando random.seed(n), você está dizendo ao gerador de números aleatórios para iniciar em um ponto específico na sequência de números pseudoaleatórios. O valor de n pode ser qualquer número inteiro.\n",
        "\n",
        "A função random.randint faz parte do módulo random em Python e é usada para gerar números inteiros aleatórios dentro de um intervalo especificado. A sintaxe básica da função é: random.randint(a,b, size= n), onde o parâmetro\n",
        "size cria um array conforme o tamanho informado.\n",
        "\n",
        "1) Com base no conceito Erro Amostral, vamos criar um código em Python para gerar uma população, utilizando a função Random.randint(1, 3000, size= 1000) e realizar os seguintes cálculos:\n",
        "\n",
        "a. Calcular a média da população: utilizar a função mean(a)\n",
        "\n",
        "b. Selecionar uma amostra aleatória: utilizar a função random.choice(a, size=100, replace=false)\n",
        "\n",
        "c. Calcular a média da amostra: utilizar a função mean(a)\n",
        "\n",
        "d. Calcular o erro da amostragem: utilizar a fórmula: erro_amostragem = media_amostra – media_polulação\n"
      ],
      "metadata": {
        "id": "YmZXkvfEfK-6"
      }
    },
    {
      "cell_type": "code",
      "source": [
        "import numpy as np\n",
        "import pandas as pd\n",
        "\n",
        "#Gerar uma população de exemplo\n",
        "np.random.seed(1)\n",
        "populacao = np.random.randint(1, 3000, size=1000)\n",
        "\n",
        "#Calcular a média da população\n",
        "media_populacao = np.mean(populacao)\n",
        "\n",
        "#Selecionar uma amostra aleatória\n",
        "amostra = np.random.choice(populacao, size=100, replace=False)\n",
        "\n",
        "#Calcular a média da amostra\n",
        "media_amostra = np.mean(amostra)\n",
        "\n",
        "#Calcular o erro de amostragem\n",
        "erro_amostragem = media_amostra - media_populacao\n",
        "\n",
        "print(\"Média da População:\", media_populacao)\n",
        "print(\"Média da Amostra:\", media_amostra)\n",
        "print(\"Erro de Amostragem:\", erro_amostragem)\n"
      ],
      "metadata": {
        "colab": {
          "base_uri": "https://localhost:8080/"
        },
        "id": "FGdS9T2sgcpa",
        "outputId": "0aa30823-b1b4-4ccb-dfa7-83291e002281"
      },
      "execution_count": 16,
      "outputs": [
        {
          "output_type": "stream",
          "name": "stdout",
          "text": [
            "Média da População: 1500.222\n",
            "Média da Amostra: 1672.37\n",
            "Erro de Amostragem: 172.1479999999999\n"
          ]
        }
      ]
    }
  ]
}