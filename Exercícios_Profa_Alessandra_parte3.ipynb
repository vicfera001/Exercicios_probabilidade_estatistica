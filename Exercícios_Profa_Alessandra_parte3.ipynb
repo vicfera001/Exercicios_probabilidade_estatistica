{
  "nbformat": 4,
  "nbformat_minor": 0,
  "metadata": {
    "colab": {
      "provenance": [],
      "authorship_tag": "ABX9TyMfQoJOxs1VPdJzHnOG7GA6",
      "include_colab_link": true
    },
    "kernelspec": {
      "name": "python3",
      "display_name": "Python 3"
    },
    "language_info": {
      "name": "python"
    }
  },
  "cells": [
    {
      "cell_type": "markdown",
      "metadata": {
        "id": "view-in-github",
        "colab_type": "text"
      },
      "source": [
        "<a href=\"https://colab.research.google.com/github/vicfera001/Exercicios_probabilidade_estatistica/blob/main/Exerc%C3%ADcios_Profa_Alessandra_parte3.ipynb\" target=\"_parent\"><img src=\"https://colab.research.google.com/assets/colab-badge.svg\" alt=\"Open In Colab\"/></a>"
      ]
    },
    {
      "cell_type": "markdown",
      "source": [
        "#**PONTO AMOSTRAL**\n",
        "É uma das possíveis ocorrências ou resultados do experimento."
      ],
      "metadata": {
        "id": "KQALCCDM8rOg"
      }
    },
    {
      "cell_type": "code",
      "execution_count": null,
      "metadata": {
        "colab": {
          "base_uri": "https://localhost:8080/"
        },
        "id": "mbvvLi6G7B2z",
        "outputId": "c6739280-ff44-4f54-da73-5ac803346593"
      },
      "outputs": [
        {
          "output_type": "stream",
          "name": "stdout",
          "text": [
            "Resultado do lançamento de duas moedas:(6, 5, 1, 2, 2, 3)\n"
          ]
        }
      ],
      "source": [
        "import itertools\n",
        "import random\n",
        "\n",
        "# Espaço amostral\n",
        "espaco_amostral = list(itertools.product([1,2,3,4,5,6], repeat=6))\n",
        "\n",
        "# Simulação de um lançamento\n",
        "resultado = random.choice(espaco_amostral)\n",
        "\n",
        "print(f'Resultado do lançamento de duas moedas:{resultado}')"
      ]
    },
    {
      "cell_type": "markdown",
      "source": [
        ":"
      ],
      "metadata": {
        "id": "RDG16vOWOxvZ"
      }
    },
    {
      "cell_type": "markdown",
      "source": [
        "#**Operações básicas de conjuntos**\n",
        "\n",
        "#**Interseção ( ∩ )**:\n",
        "Conjunto de todos os elementos que pertencem a ambos os conjuntos."
      ],
      "metadata": {
        "id": "ED81v_XJOyrF"
      }
    },
    {
      "cell_type": "code",
      "source": [
        "# Definindo os conjuntos\n",
        "conjunto_a = {1, 2, 3}\n",
        "conjunto_b = {3, 4, 5}\n",
        "\n",
        "# Interseção dos conjuntos\n",
        "intersecao = conjunto_a.intersection(conjunto_b)\n",
        "\n",
        "print(f'Interseção: {intersecao}')"
      ],
      "metadata": {
        "colab": {
          "base_uri": "https://localhost:8080/"
        },
        "id": "GowEnNQoOztu",
        "outputId": "94014e9d-2dce-4f8a-9b24-d4f53cd4df82"
      },
      "execution_count": null,
      "outputs": [
        {
          "output_type": "stream",
          "name": "stdout",
          "text": [
            "Interseção: {3}\n"
          ]
        }
      ]
    },
    {
      "cell_type": "markdown",
      "source": [
        ":"
      ],
      "metadata": {
        "id": "QlIHfPtCPSDs"
      }
    },
    {
      "cell_type": "markdown",
      "source": [
        "#**Diferença ( \\ )**:\n",
        "Conjunto de todos os elementos que\n",
        "pertencem a um conjunto, mas não ao outro.\n",
        "\n",
        "Considere os conjuntos A e B, sendo:\n",
        "\n",
        "A={x/x é um número natural e está entre 20 e 30}\n",
        "\n",
        "B={x/x é um número primo menor que 30}\n",
        "\n",
        "Pode-se afirmar que a diferença do conjunto A e B significa um conjunto C com os elementos que pertencem ao conjunto A, porém não ao conjunto B.\n",
        "\n"
      ],
      "metadata": {
        "id": "T-Qo63tZPS52"
      }
    },
    {
      "cell_type": "code",
      "source": [
        "from IPython.display import Image\n",
        "from google.colab import drive\n",
        "\n",
        "drive.mount('/content/drive')\n",
        "\n",
        "# Replace with the path to your image\n",
        "image_path = '/content/drive/My Drive/YR2024/Matemática/pic003.png'\n",
        "image_path1 = '/content/drive/My Drive/YR2024/Matemática/pic004.png'\n",
        "\n",
        "# Display the image\n",
        "display(Image(image_path))\n",
        "display(Image(image_path1))"
      ],
      "metadata": {
        "colab": {
          "base_uri": "https://localhost:8080/",
          "height": 704
        },
        "id": "_NlMbxL2xY1-",
        "outputId": "1022f013-1b62-4489-fc17-6449b87a3abf"
      },
      "execution_count": null,
      "outputs": [
        {
          "output_type": "stream",
          "name": "stdout",
          "text": [
            "Drive already mounted at /content/drive; to attempt to forcibly remount, call drive.mount(\"/content/drive\", force_remount=True).\n"
          ]
        },
        {
          "output_type": "display_data",
          "data": {
            "image/png": "[encoded data removed]",
            "text/plain": [
              "<IPython.core.display.Image object>"
            ]
          },
          "metadata": {}
        },
        {
          "output_type": "display_data",
          "data": {
            "image/png": "[encoded data removed]",
            "text/plain": [
              "<IPython.core.display.Image object>"
            ]
          },
          "metadata": {}
        }
      ]
    },
    {
      "cell_type": "code",
      "source": [
        "# Definindo os conjuntos\n",
        "conjunto_a = {21, 22, 23, 24, 25, 26, 27, 28, 29}\n",
        "conjunto_b = {2, 3, 5, 7, 11, 13, 17, 19, 23, 29} # Algoritmo de Eratostenes\n",
        "\n",
        "# Diferença dos conjuntos\n",
        "diferenca_a_b = conjunto_a.difference(conjunto_b)\n",
        "diferenca_b_a = conjunto_b.difference(conjunto_a)\n",
        "\n",
        "print(f\"Diferença A \\ B: {diferenca_a_b}\")\n",
        "print(f\"Diferença B \\ A: {diferenca_b_a}\")"
      ],
      "metadata": {
        "colab": {
          "base_uri": "https://localhost:8080/"
        },
        "id": "aHTs2yApPTb2",
        "outputId": "9ecdd8e5-2312-40dc-e469-e39ba57b223d"
      },
      "execution_count": null,
      "outputs": [
        {
          "output_type": "stream",
          "name": "stdout",
          "text": [
            "Diferença A \\ B: {21, 22, 24, 25, 26, 27, 28}\n",
            "Diferença B \\ A: {2, 3, 5, 7, 11, 13, 17, 19}\n"
          ]
        }
      ]
    },
    {
      "cell_type": "markdown",
      "source": [
        ":"
      ],
      "metadata": {
        "id": "764fRWnU5TDf"
      }
    },
    {
      "cell_type": "markdown",
      "source": [
        "#**Complementar de um conjunto**\n",
        "\n",
        "O complementar do conjunto *A* no conjunto universal *U* é denotado por\n",
        "\n",
        "$$ A^\\complement = U ∖ A \\    ou   \\ \\overline{A} \\  ou  \\  ainda \\ A^c. $$\n",
        "\n",
        "\n",
        "**Exemplo**: Seja o conjunto universal *U =* {1, 2, 3, 4, 5} e o conjunto *A =* {2, 4}. Portanto:\n",
        "\n",
        "U = {1, 2, 3, 4, 5} e A = {2, 4}. O complementar de *A* é: $$ A^\\complement = \\left\\{1, 3, 5\\right\\} $$\n",
        "\n",
        "Neste exemplo, pode-se dizer que o complementar do conjunto A é a diferença entre os conjuntos *U* e *A*, sendo denotado conforme acima descrito.\n",
        "\n",
        "O importante na definição de conjunto complementar é que, o conjunto A deve estar contido no conjunto universal U. Assim, a regra de cálculo vale para:  $$A \\subset U$$Do contrário, não é possível calcular, conforme descrito no código abaixo.\n"
      ],
      "metadata": {
        "id": "PP2q8SRd5T9-"
      }
    },
    {
      "cell_type": "code",
      "source": [
        "# Definindo os conjuntos\n",
        "conjunto_A = {1, 2, 3, 4, 5}\n",
        "conjunto_U = {2, 4}\n",
        "\n",
        "# Diferença dos conjuntos\n",
        "diff_A_U = conjunto_A.difference(conjunto_U)\n",
        "diff_U_A = conjunto_U.difference(conjunto_A)\n",
        "\n",
        "print(f\"Diferença A \\ U: {diff_A_U}\")\n",
        "print(f\"Diferença U \\ A: {diff_U_A}\")"
      ],
      "metadata": {
        "colab": {
          "base_uri": "https://localhost:8080/"
        },
        "id": "ni83UxznCjc6",
        "outputId": "a097ca09-560b-4971-cabe-a119a35183f3"
      },
      "execution_count": null,
      "outputs": [
        {
          "output_type": "stream",
          "name": "stdout",
          "text": [
            "Diferença A \\ U: {1, 3, 5}\n",
            "Diferença U \\ A: set()\n"
          ]
        }
      ]
    },
    {
      "cell_type": "markdown",
      "source": [
        " Complemento: Conjunto de todos os elementos que\n",
        "não pertencem ao conjunto."
      ],
      "metadata": {
        "id": "hN5hLc-thkEF"
      }
    },
    {
      "cell_type": "code",
      "source": [
        "# Definindo o conjunto e o conjunto universal\n",
        "\n",
        "# Exemplo:\n",
        "conjunto_a = {1, 2, 3}\n",
        "universo = {1, 2, 3, 4, 5}\n",
        "\n",
        "# Complemento do conjunto A\n",
        "complemento_a = universo.difference(conjunto_a)\n",
        "print(f'Complemento de A: {complemento_a}')"
      ],
      "metadata": {
        "colab": {
          "base_uri": "https://localhost:8080/"
        },
        "id": "jtzbYukThYWJ",
        "outputId": "081bd76a-a068-4514-e463-3759507832b4"
      },
      "execution_count": 2,
      "outputs": [
        {
          "output_type": "stream",
          "name": "stdout",
          "text": [
            "Complemento de A: {4, 5}\n"
          ]
        }
      ]
    },
    {
      "cell_type": "markdown",
      "source": [
        ":"
      ],
      "metadata": {
        "id": "Q8paKUgtiJ46"
      }
    },
    {
      "cell_type": "markdown",
      "source": [
        "#**Aleatoriedade**\n",
        "\n",
        "Refere-se à ocorrência de eventos de de forma imprevisível e sem um padrão\n",
        "discernível.  \n",
        "\n",
        "**Exemplo:**\n",
        "Lançamento de uma Moeda: Quando você lança uma moeda, o resultado (cara ou coroa) é imprevisível. Cada resultado tem uma probabilidade de 50%, mas não\n",
        "há como saber qual face será obtida em um único lançamento.\n",
        "\n"
      ],
      "metadata": {
        "id": "QyDA0EUbiKWJ"
      }
    },
    {
      "cell_type": "code",
      "source": [
        "import random\n",
        "\n",
        "# Definindo o espaço amostral\n",
        "espaco_amostral = ['Cara', 'Coroa']\n",
        "\n",
        "# Simulando o lançamento da moeda 1000 vezes\n",
        "resultados = [random.choice(espaco_amostral) for _ in range(1000)]\n",
        "\n",
        "# Contando os resultados\n",
        "caras = resultados.count('Cara')\n",
        "coroas = resultados.count('Coroa')\n",
        "\n",
        "# Calculando as probabilidades\n",
        "probabilidade_cara = caras / 1000\n",
        "probabilidade_coroa = coroas / 1000\n",
        "\n",
        "# Exibindo os resultados\n",
        "print(f\"Resultados dos lançamentos: {caras} caras e {coroas} coroas\")\n",
        "print(f\"Probabilidade de obter cara: {probabilidade_cara * 100}\")\n",
        "print(f\"Probabilidade de obter coroa: {probabilidade_coroa * 100}\")\n"
      ],
      "metadata": {
        "colab": {
          "base_uri": "https://localhost:8080/"
        },
        "id": "0jwUK3TgiLFZ",
        "outputId": "a1014305-b2c8-4841-cee2-097d4f404c82"
      },
      "execution_count": 5,
      "outputs": [
        {
          "output_type": "stream",
          "name": "stdout",
          "text": [
            "Resultados dos lançamentos: 497 caras e 503 coroas\n",
            "Probabilidade de obter cara: 49.7\n",
            "Probabilidade de obter coroa: 50.3\n"
          ]
        }
      ]
    },
    {
      "cell_type": "markdown",
      "source": [
        ":"
      ],
      "metadata": {
        "id": "za6qtkPL5F2T"
      }
    },
    {
      "cell_type": "markdown",
      "source": [
        "#**Probabilidade**\n",
        "\n",
        "É uma medida que quantifica a chance de um evento acontecer, expressa como um número entre 0 e 1, onde 0 indica que o evento nunca ocorre e 1 indica que o evento sempre ocorre."
      ],
      "metadata": {
        "id": "h3qmdVv05GzH"
      }
    },
    {
      "cell_type": "code",
      "source": [
        "import random\n",
        "\n",
        "# Definindo o espaço amostral\n",
        "espaco_amostral = ['Cara', 'Coroa']\n",
        "\n",
        "# Simulando o lançamento da moeda\n",
        "resultado = random.choice(espaco_amostral)\n",
        "\n",
        "print(f'Resultado do lançamento da moeda:{resultado}')\n"
      ],
      "metadata": {
        "colab": {
          "base_uri": "https://localhost:8080/"
        },
        "id": "dPHA--Gb5HTj",
        "outputId": "11cb1149-1383-4fbe-f2c4-94e19b5e400e"
      },
      "execution_count": 2,
      "outputs": [
        {
          "output_type": "stream",
          "name": "stdout",
          "text": [
            "Resultado do lançamento da moeda:Cara\n"
          ]
        }
      ]
    },
    {
      "cell_type": "markdown",
      "source": [
        ":"
      ],
      "metadata": {
        "id": "MTsddBgg5ZSI"
      }
    },
    {
      "cell_type": "markdown",
      "source": [
        "#**Simulação**\n",
        "\n",
        "É uma técnica usada para modelar e analisar o comportamento de sistemas\n",
        "complexos ou eventos aleatórios, replicando processos ou experimentos em um\n",
        "ambiente controlado."
      ],
      "metadata": {
        "id": "Xo6-JawK5aP-"
      }
    },
    {
      "cell_type": "code",
      "source": [
        "import random\n",
        "\n",
        "# Definindo o espaço amostral\n",
        "espaco_amostral = [1, 2, 3, 4, 5, 6]\n",
        "\n",
        "# Número de lançamentos\n",
        "num_lancamentos = 10000\n",
        "\n",
        "# Simulando os lançamentos do dado\n",
        "resultados = random.choices(espaco_amostral, k=num_lancamentos)\n",
        "\n",
        "# Calculando a frequência de cada resultado\n",
        "frequencias = {face: resultados.count(face) for face in espaco_amostral}\n",
        "\n",
        "# Calculando a probabilidade de cada resultado\n",
        "probabilidades = {face: frequencia / num_lancamentos for face, frequencia in frequencias.items()}\n",
        "\n",
        "# Exibindo os resultados\n",
        "print(f\"Frequências: {frequencias}\")\n",
        "print(f\"Probabilidades: {probabilidades}\")\n"
      ],
      "metadata": {
        "colab": {
          "base_uri": "https://localhost:8080/"
        },
        "id": "KxcK4OGI5bIy",
        "outputId": "7d7dfc81-d06b-42e2-fed0-25732ca3cb84"
      },
      "execution_count": 3,
      "outputs": [
        {
          "output_type": "stream",
          "name": "stdout",
          "text": [
            "Frequências: {1: 1640, 2: 1668, 3: 1617, 4: 1680, 5: 1739, 6: 1656}\n",
            "Probabilidades: {1: 0.164, 2: 0.1668, 3: 0.1617, 4: 0.168, 5: 0.1739, 6: 0.1656}\n"
          ]
        }
      ]
    },
    {
      "cell_type": "markdown",
      "source": [
        ":"
      ],
      "metadata": {
        "id": "C3aA0_Wi5-IN"
      }
    },
    {
      "cell_type": "markdown",
      "source": [
        "# **Regras da adição**\n",
        "\n",
        " É é usada para calcular a probabilidade de que ocorra um de vários eventos\n",
        "mutuamente exclusivos (ou seja, eventos que não podem ocorrer ao mesmo tempo)."
      ],
      "metadata": {
        "id": "SLY4iqmv5_E1"
      }
    },
    {
      "cell_type": "code",
      "source": [
        "# Definindo as probabilidades individuais\n",
        "P_A = 3/6  # Números pares: 2, 4, 6\n",
        "P_B = 2/6  # Números maiores que 4: 5, 6\n",
        "P_A_e_B = 1/6  # Número par maior que 4: 6\n",
        "\n",
        "# Usando a regra da adição\n",
        "P_A_ou_B = P_A + P_B - P_A_e_B\n",
        "print(f\"Probabilidade de obter um número par ou maior que 4: {P_A_ou_B}\")\n"
      ],
      "metadata": {
        "colab": {
          "base_uri": "https://localhost:8080/"
        },
        "id": "eaLR1BjX5_lY",
        "outputId": "3d15e232-dde5-4219-f12b-2525b64ad0b5"
      },
      "execution_count": 4,
      "outputs": [
        {
          "output_type": "stream",
          "name": "stdout",
          "text": [
            "Probabilidade de obter um número par ou maior que 4: 0.6666666666666666\n"
          ]
        }
      ]
    },
    {
      "cell_type": "markdown",
      "source": [
        ":"
      ],
      "metadata": {
        "id": "N3L1ZEfY6ddC"
      }
    },
    {
      "cell_type": "markdown",
      "source": [
        " # **Regras da multiplicação**\n",
        "\n",
        " É usada para calcular a probabilidade de que ambos os eventos ocorram juntos (eventos independentes)."
      ],
      "metadata": {
        "id": "NnVZwn-Y6eUu"
      }
    },
    {
      "cell_type": "code",
      "source": [
        "# Definindo as probabilidades individuais\n",
        "P_A = 1/2 # Probabilidade de obter \"Cara\"\n",
        "P_B = 1/6 # Probabilidade de obter o número 4\n",
        "\n",
        "# Usando a regra da multiplicação\n",
        "P_A_e_B = P_A * P_B\n",
        "print(f\"Probabilidade de obter 'Cara' e o número 4: {P_A_e_B}\")\n"
      ],
      "metadata": {
        "colab": {
          "base_uri": "https://localhost:8080/"
        },
        "id": "b0R6bJBQ6eoA",
        "outputId": "c0e8c918-b9a7-4934-a201-caca04618da4"
      },
      "execution_count": 5,
      "outputs": [
        {
          "output_type": "stream",
          "name": "stdout",
          "text": [
            "Probabilidade de obter 'Cara' e o número 4: 0.08333333333333333\n"
          ]
        }
      ]
    },
    {
      "cell_type": "markdown",
      "source": [
        ":"
      ],
      "metadata": {
        "id": "a75qXR5N61TN"
      }
    },
    {
      "cell_type": "markdown",
      "source": [
        " # **Probabilidade condicional**\n",
        "\n",
        " É a probabilidade de um evento ocorrer dado que outro evento já ocorreu. Ela é representada por P(A∣B)P(A|B), que se lê como \"a probabilidade de A dado B\"."
      ],
      "metadata": {
        "id": "_PjkMRVp62IV"
      }
    },
    {
      "cell_type": "code",
      "source": [
        "# Definindo as probabilidades\n",
        "P_B = 1/4  # Probabilidade de a carta ser de Copas (13 de 52 cartas)\n",
        "P_A_e_B = 1/52  # Probabilidade de a carta ser o Rei de Copas\n",
        "\n",
        "# Calculando a probabilidade condicional\n",
        "P_A_dado_B = P_A_e_B / P_B\n",
        "print(f\"Probabilidade de tirar o Rei de Copas dado que a carta é de Copas:{P_A_dado_B}\")\n"
      ],
      "metadata": {
        "id": "TMWtr9-y625A"
      },
      "execution_count": null,
      "outputs": []
    },
    {
      "cell_type": "markdown",
      "source": [
        ":"
      ],
      "metadata": {
        "id": "sFrXxsKSAYBL"
      }
    },
    {
      "cell_type": "markdown",
      "source": [
        "# Probabilidade independência\n",
        "\n",
        " Em termos de probabilidade significa que a ocorrência de um evento não afeta a ocorrência de outro evento."
      ],
      "metadata": {
        "id": "EAYUIw0xAYzg"
      }
    },
    {
      "cell_type": "code",
      "source": [
        "# Definindo as probabilidades\n",
        "P_A = 1/2  # Probabilidade de obter \"Cara\"\n",
        "P_B = 1/6  # Probabilidade de obter o número 4\n",
        "\n",
        "# Calculando a probabilidade conjunta\n",
        "P_A_e_B = P_A * P_B\n",
        "print(f\"Probabilidade de obter 'Cara' e o número 4: {P_A_e_B}\")"
      ],
      "metadata": {
        "colab": {
          "base_uri": "https://localhost:8080/"
        },
        "id": "rusxO4eYAZRN",
        "outputId": "b439ddd7-4512-43bc-f315-0af3f3764866"
      },
      "execution_count": 7,
      "outputs": [
        {
          "output_type": "stream",
          "name": "stdout",
          "text": [
            "Probabilidade de obter 'Cara' e o número 4: 0.08333333333333333\n"
          ]
        }
      ]
    }
  ]
}